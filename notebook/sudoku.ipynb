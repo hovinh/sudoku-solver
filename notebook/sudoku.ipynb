{
 "cells": [
  {
   "cell_type": "code",
   "execution_count": 7,
   "id": "e5b70336",
   "metadata": {},
   "outputs": [],
   "source": [
    "from typing import List\n",
    "import textwrap\n",
    "\n",
    "class SudokuCell(object):\n",
    "    def __init__(self):\n",
    "        pass\n",
    "\n",
    "\n",
    "class SudokuGrid(object):\n",
    "    def __init__(self, sudoku_string: str):\n",
    "        self.N_ROWS = 9\n",
    "        self.N_COLS = 9\n",
    "        self.grid_values = self.parse_string_to_2d_grid(sudoku_string)\n",
    "\n",
    "    def parse_string_to_2d_grid(self, sudoku_string: str) -> List[List[int]]:\n",
    "        substrings = textwrap.wrap(sudoku_string, 9)\n",
    "        grid = [[int(substr[i]) for i in range(self.N_COLS)] for substr in substrings]\n",
    "        return grid\n",
    "\n",
    "    def __str__(self) -> str:\n",
    "        def has_row_divider(row_id: int) -> bool:\n",
    "            return (row_id % 3 == 0) and (row_id > 0)\n",
    "        \n",
    "        def has_col_divider(col_id: int) -> bool:\n",
    "            return (col_id % 3 == 0) and (col_id > 0)\n",
    "\n",
    "        text_str = \"\"\n",
    "        row_divider = \"- - - - - - - - - - -\\n\"\n",
    "        last_col_id = 8\n",
    "        for row_id in range(self.N_ROWS):\n",
    "            if has_row_divider(row_id):\n",
    "                text_str += row_divider\n",
    "\n",
    "            for col_id in range(self.N_COLS):\n",
    "                if has_col_divider(col_id):\n",
    "                    text_str += '| '\n",
    "                cell_value = self.grid_values[row_id][col_id]\n",
    "                if col_id == last_col_id:\n",
    "                    text_str += f'{cell_value} \\n'\n",
    "                else:\n",
    "                    text_str += f'{cell_value} '\n",
    "\n",
    "        return text_str"
   ]
  },
  {
   "cell_type": "code",
   "execution_count": 8,
   "id": "d86f4e1c",
   "metadata": {},
   "outputs": [
    {
     "name": "stdout",
     "output_type": "stream",
     "text": [
      "0 0 0 | 0 0 0 | 0 1 0 \n",
      "4 0 0 | 0 0 0 | 0 0 0 \n",
      "0 2 0 | 0 0 0 | 0 0 0 \n",
      "- - - - - - - - - - -\n",
      "0 0 0 | 0 5 0 | 4 0 7 \n",
      "0 0 8 | 0 0 0 | 3 0 0 \n",
      "0 0 1 | 0 9 0 | 0 0 0 \n",
      "- - - - - - - - - - -\n",
      "3 0 0 | 4 0 0 | 2 0 0 \n",
      "0 5 0 | 1 0 0 | 0 0 0 \n",
      "0 0 0 | 8 0 6 | 0 0 0 \n",
      "\n"
     ]
    }
   ],
   "source": [
    "grid = SudokuGrid(\n",
    "    sudoku_string=\"000000010400000000020000000000050407008000300001090000300400200050100000000806000\"\n",
    ")\n",
    "print(grid)\n"
   ]
  }
 ],
 "metadata": {
  "kernelspec": {
   "display_name": "py3.10-sudoku-kernel",
   "language": "python",
   "name": "py3.10-sudoku-kernel"
  },
  "language_info": {
   "codemirror_mode": {
    "name": "ipython",
    "version": 3
   },
   "file_extension": ".py",
   "mimetype": "text/x-python",
   "name": "python",
   "nbconvert_exporter": "python",
   "pygments_lexer": "ipython3",
   "version": "3.10.9"
  }
 },
 "nbformat": 4,
 "nbformat_minor": 5
}
